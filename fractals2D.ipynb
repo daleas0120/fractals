{
  "cells": [
    {
      "cell_type": "markdown",
      "metadata": {
        "collapsed": true,
        "pycharm": {
          "name": "#%% md\n"
        },
        "id": "eS4ZrycfHn0m"
      },
      "source": [
        "# 2D Fractal Study\n",
        "\n",
        "### This notebook generates a picture of a 2D fractal given user defined parameters.\n",
        "\n",
        "*Note: Some of this code comes from https://realpython.com/mandelbrot-set-python/.  This notebook reformats it in a way that is useful for running repeated experiments and saving results.*\n",
        "\n"
      ]
    },
    {
      "cell_type": "code",
      "source": [
        "\n",
        "# add path to custom python module\n",
        "!cp drive/MyDrive/Colab\\ Notebooks/fractals/fractal_utils.py ."
      ],
      "metadata": {
        "colab": {
          "base_uri": "https://localhost:8080/"
        },
        "id": "ub96GhJUIVQ9",
        "outputId": "cb2f8a51-6897-4ab3-c971-d7515374fba3"
      },
      "execution_count": null,
      "outputs": [
        {
          "output_type": "stream",
          "name": "stdout",
          "text": [
            "Drive already mounted at /content/drive; to attempt to forcibly remount, call drive.mount(\"/content/drive\", force_remount=True).\n"
          ]
        }
      ]
    },
    {
      "cell_type": "code",
      "execution_count": null,
      "outputs": [],
      "source": [
        "# custom code\n",
        "import fractal_utils as f\n",
        "from fractal_utils import MandelbrotSet"
      ],
      "metadata": {
        "pycharm": {
          "name": "#%%\n"
        },
        "id": "1qVpgSTFHn0o"
      }
    },
    {
      "cell_type": "markdown",
      "source": [
        "First we create a Mandelbrot Set generator.  This is a wrapper class that does the following:\n",
        "1. Implements the classical Mandelbrot equation $$z_{n} = z_{n-1}^2 + k$$ where $k$ is a complex number\n",
        "2. Tests for the stability of $k$\n",
        "3. Stops calculating the series when $z >$ the user defined escape radius (terminates when the series diverges)\n",
        "4. Stops calculating the series when maximum number of iterations has been achieved\n"
      ],
      "metadata": {
        "id": "g-VcpFstL3yf"
      }
    },
    {
      "cell_type": "code",
      "execution_count": null,
      "outputs": [],
      "source": [
        "mandelbrot_set_generator = MandelbrotSet(max_iterations=500, escape_radius=2)"
      ],
      "metadata": {
        "pycharm": {
          "name": "#%%\n"
        },
        "id": "9MQV7ZbMHn0p"
      }
    },
    {
      "cell_type": "markdown",
      "source": [
        "Next, we define the search area (the range of real and imaginary values centered around some user defined point) and the number of $k$ values to consider.\n",
        "\n",
        "The complex value of each point in the pixel array is determined using the formula:\n",
        "$$k = \\alpha(x+iy) + center$$\n",
        "where $x$ is the the row value of the array, $y$ is the column value of the array, $center$ is a user defined offset, and $\\alpha$ is a scaling constant determined as\n",
        "$$\\alpha=(\\text{user defined scale})/(\\text{number of complex points})$$.\n",
        "\n",
        "Some good centers and scales to try are: </br>\n",
        "\n",
        "| Center | Scale | Notes |\n",
        "| --- | --- | --- |\n",
        "| -0.75 + 0j | 3.5| Original Mandelbrot Set |\n",
        "| -0.7435 + 0.1314j | 0.002 | Nice spirally thing |\n",
        "\n",
        "\n"
      ],
      "metadata": {
        "id": "uhVVuSj5Nho9"
      }
    },
    {
      "cell_type": "code",
      "source": [
        "## User changes these values\n",
        "num_real_pts = 512 #equivalent to image width\n",
        "num_imag_pts = 512 #equivalent to image height\n",
        "center = -0.75 # acts as an offset to k\n",
        "scale = 3.5 # is used to calculate the alpha value; defines the range"
      ],
      "metadata": {
        "id": "QZAFBUlMN6HX"
      },
      "execution_count": null,
      "outputs": []
    },
    {
      "cell_type": "code",
      "source": [
        "search_area, fractal_image = f.get_search_area(num_real_pts, num_imag_pts, center, scale)"
      ],
      "metadata": {
        "id": "tJRVSh2gTMRz"
      },
      "execution_count": null,
      "outputs": []
    },
    {
      "cell_type": "markdown",
      "source": [
        "Finally, we calculate the fractal and show it as an image."
      ],
      "metadata": {
        "id": "SqddEvaNTwET"
      }
    },
    {
      "cell_type": "code",
      "source": [
        "f.get_fractal(mandelbrot_set_generator, search_area, fractal_image)"
      ],
      "metadata": {
        "pycharm": {
          "name": "#%%\n",
          "is_executing": true
        },
        "id": "bkoe5h7rHn0p"
      },
      "execution_count": null,
      "outputs": []
    },
    {
      "cell_type": "code",
      "execution_count": null,
      "outputs": [],
      "source": [
        ""
      ],
      "metadata": {
        "pycharm": {
          "name": "#%%\n"
        },
        "id": "kWFVIlVjHn0q"
      }
    }
  ],
  "metadata": {
    "kernelspec": {
      "display_name": "Python 3",
      "language": "python",
      "name": "python3"
    },
    "language_info": {
      "codemirror_mode": {
        "name": "ipython",
        "version": 2
      },
      "file_extension": ".py",
      "mimetype": "text/x-python",
      "name": "python",
      "nbconvert_exporter": "python",
      "pygments_lexer": "ipython2",
      "version": "2.7.6"
    },
    "colab": {
      "name": "fractals2D.ipynb",
      "provenance": [],
      "collapsed_sections": []
    }
  },
  "nbformat": 4,
  "nbformat_minor": 0
}